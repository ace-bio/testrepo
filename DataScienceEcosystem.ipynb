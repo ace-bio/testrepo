{
 "cells": [
  {
   "cell_type": "markdown",
   "id": "405dfa26-59d3-4f44-bc79-5f18d06cfc37",
   "metadata": {},
   "source": [
    "# Data Science Tools and Ecosystem"
   ]
  },
  {
   "cell_type": "markdown",
   "id": "64485937-8dc1-4bfc-865f-129989e7f612",
   "metadata": {},
   "source": [
    "In this notebook, data Science Tools and Ecosystem are summarised."
   ]
  },
  {
   "cell_type": "markdown",
   "id": "69667831-1bf5-4da0-b66f-1c1200f5d89b",
   "metadata": {},
   "source": [
    "**Objectives:**\n",
    "* Popular languages for Data Science\n",
    "* Common Data Science libraries\n",
    "* Data Science Tools Table\n",
    "* Arithmetic evaluation using Python"
   ]
  },
  {
   "cell_type": "markdown",
   "id": "c705dea8-eaa2-476f-a826-6b4de155dd28",
   "metadata": {},
   "source": [
    "Some of the popular languages that the Data Scientists use are:\n",
    "1. Python\n",
    "2. SQL\n",
    "3. R.\n",
    "4. Julia\n",
    "5. Java"
   ]
  },
  {
   "cell_type": "markdown",
   "id": "5aadee18-5cb8-459e-a4f1-da41521d1dac",
   "metadata": {},
   "source": [
    "Some of the commonly used libraries used by Data Scientists include:\n",
    "1. GGplot\n",
    "2. NumPy\n",
    "3. Scikitlearn\n",
    "4. Matplotlib\n",
    "5. Pandas"
   ]
  },
  {
   "cell_type": "markdown",
   "id": "1acb8469-bcd9-429a-ab87-415a5eaec165",
   "metadata": {
    "tags": []
   },
   "source": [
    "|Data Science Tools|\n",
    "|------------------|\n",
    "|Apache Spark|\n",
    "|VSCode|\n",
    "|Jupyter|"
   ]
  },
  {
   "cell_type": "markdown",
   "id": "64c6c074-1ae8-428d-b1d3-6c455a9edc91",
   "metadata": {},
   "source": [
    "### Below are a few example of evaluating arithmetic expressions in Python"
   ]
  },
  {
   "cell_type": "code",
   "execution_count": 2,
   "id": "682322a6-e8a6-45b0-9231-77a516237e3e",
   "metadata": {
    "tags": []
   },
   "outputs": [
    {
     "data": {
      "text/plain": [
       "17"
      ]
     },
     "execution_count": 2,
     "metadata": {},
     "output_type": "execute_result"
    }
   ],
   "source": [
    "# This is a simple arithmetic expression to multiply then add integers\n",
    "(3*4)+5"
   ]
  },
  {
   "cell_type": "code",
   "execution_count": 6,
   "id": "58593619-6060-4398-a171-e19e70d08944",
   "metadata": {
    "tags": []
   },
   "outputs": [
    {
     "data": {
      "text/plain": [
       "3.3333333333333335"
      ]
     },
     "execution_count": 6,
     "metadata": {},
     "output_type": "execute_result"
    }
   ],
   "source": [
    "# This will convert 200 minutes to hours by dividing by 60\n",
    "200/60"
   ]
  },
  {
   "cell_type": "markdown",
   "id": "8f8150dc-8a1d-4831-981c-0b4a74c79342",
   "metadata": {},
   "source": [
    "## Author\n",
    "Emmanuel Augustine"
   ]
  }
 ],
 "metadata": {
  "kernelspec": {
   "display_name": "Python",
   "language": "python",
   "name": "conda-env-python-py"
  },
  "language_info": {
   "codemirror_mode": {
    "name": "ipython",
    "version": 3
   },
   "file_extension": ".py",
   "mimetype": "text/x-python",
   "name": "python",
   "nbconvert_exporter": "python",
   "pygments_lexer": "ipython3",
   "version": "3.7.12"
  }
 },
 "nbformat": 4,
 "nbformat_minor": 5
}
